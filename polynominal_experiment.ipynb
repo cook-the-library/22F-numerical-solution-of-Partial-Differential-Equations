{
 "cells": [
  {
   "cell_type": "code",
   "execution_count": 1,
   "id": "dcb99cb4",
   "metadata": {},
   "outputs": [
    {
     "data": {
      "text/plain": [
       "['7', '55*x^22']"
      ]
     },
     "execution_count": 1,
     "metadata": {},
     "output_type": "execute_result"
    }
   ],
   "source": [
    "string=\"7+55*x^22\"\n",
    "string_mono=string.split(\"+\")\n",
    "string_mono"
   ]
  },
  {
   "cell_type": "code",
   "execution_count": 2,
   "id": "cded3a42",
   "metadata": {},
   "outputs": [
    {
     "data": {
      "text/plain": [
       "22"
      ]
     },
     "execution_count": 2,
     "metadata": {},
     "output_type": "execute_result"
    }
   ],
   "source": [
    "int(string_mono[1][5:])"
   ]
  },
  {
   "cell_type": "code",
   "execution_count": 15,
   "id": "ec8077ec",
   "metadata": {},
   "outputs": [
    {
     "name": "stdout",
     "output_type": "stream",
     "text": [
      "['22', 'x']\n",
      "['44']\n"
     ]
    }
   ],
   "source": [
    "string2=\"22*x^44\"\n",
    "string2_power=string2.split(\"^\")\n",
    "string2_power\n",
    "for x in string2_power:\n",
    "    print(x.split(\"*\"))"
   ]
  },
  {
   "cell_type": "code",
   "execution_count": 10,
   "id": "5e60df6c",
   "metadata": {},
   "outputs": [
    {
     "data": {
      "text/plain": [
       "['22*x']"
      ]
     },
     "execution_count": 10,
     "metadata": {},
     "output_type": "execute_result"
    }
   ],
   "source": [
    "string2_power"
   ]
  },
  {
   "cell_type": "code",
   "execution_count": 1,
   "id": "66ac8dcd",
   "metadata": {},
   "outputs": [
    {
     "name": "stdout",
     "output_type": "stream",
     "text": [
      "-1+6*x-7*x^4+3*x^2\n",
      "[-1  6  3  0 -7]\n"
     ]
    }
   ],
   "source": [
    "from polynomial import Polynomial\n",
    "a=Polynomial.from_string(\"-1+6*x-7*x^4+3*x^2\")"
   ]
  },
  {
   "cell_type": "code",
   "execution_count": 2,
   "id": "ee39c552",
   "metadata": {},
   "outputs": [
    {
     "name": "stdout",
     "output_type": "stream",
     "text": [
      "[-1  6  3  0 -7]\n"
     ]
    }
   ],
   "source": [
    "print(a)"
   ]
  },
  {
   "cell_type": "code",
   "execution_count": 5,
   "id": "c9c4f5e5",
   "metadata": {},
   "outputs": [
    {
     "name": "stdout",
     "output_type": "stream",
     "text": [
      "[0 0 2 5 7 9 3]\n"
     ]
    }
   ],
   "source": [
    "import numpy as np\n",
    "a = np.zeros(7,dtype = int)\n",
    "b = [2,5,7,9,3]\n",
    "a[2:] = b\n",
    "print(a)"
   ]
  },
  {
   "cell_type": "code",
   "execution_count": null,
   "id": "2af2b222",
   "metadata": {},
   "outputs": [],
   "source": [
    "py"
   ]
  },
  {
   "cell_type": "code",
   "execution_count": 1,
   "id": "f63c83f8",
   "metadata": {},
   "outputs": [
    {
     "name": "stdout",
     "output_type": "stream",
     "text": [
      "0\n"
     ]
    }
   ],
   "source": [
    "from polynomial import Polynomial\n",
    "\n",
    "a = Polynomial.from_string(\"-4 + x^2\")\n",
    "b = Polynomial.from_string(\"x^2 - 4\")\n",
    "print( a - b )"
   ]
  },
  {
   "cell_type": "code",
   "execution_count": 2,
   "id": "f7454450",
   "metadata": {
    "scrolled": false
   },
   "outputs": [
    {
     "name": "stdout",
     "output_type": "stream",
     "text": [
      "\n"
     ]
    }
   ],
   "source": [
    "print( a - b )"
   ]
  },
  {
   "cell_type": "code",
   "execution_count": 5,
   "id": "2a216e5f",
   "metadata": {},
   "outputs": [
    {
     "ename": "TypeError",
     "evalue": "'Polynomial' object is not iterable",
     "output_type": "error",
     "traceback": [
      "\u001b[0;31m---------------------------------------------------------------------------\u001b[0m",
      "\u001b[0;31mTypeError\u001b[0m                                 Traceback (most recent call last)",
      "Cell \u001b[0;32mIn [5], line 1\u001b[0m\n\u001b[0;32m----> 1\u001b[0m \u001b[38;5;28;01mfor\u001b[39;00m i,j \u001b[38;5;129;01min\u001b[39;00m \u001b[38;5;28;43mzip\u001b[39;49m\u001b[43m(\u001b[49m\u001b[43ma\u001b[49m\u001b[43m,\u001b[49m\u001b[43m \u001b[49m\u001b[43mb\u001b[49m\u001b[43m)\u001b[49m:\n\u001b[1;32m      2\u001b[0m     \u001b[38;5;28mprint\u001b[39m(i,j)\n\u001b[1;32m      3\u001b[0m     \u001b[38;5;28;01mif\u001b[39;00m i \u001b[38;5;241m!=\u001b[39m j:\n",
      "\u001b[0;31mTypeError\u001b[0m: 'Polynomial' object is not iterable"
     ]
    }
   ],
   "source": [
    "for i,j in zip(a, b):\n",
    "    print(i,j)\n",
    "    if i != j:\n",
    "        print(\"nope\")\n",
    "print('yes')"
   ]
  },
  {
   "cell_type": "code",
   "execution_count": 3,
   "id": "5e5e2aa6",
   "metadata": {},
   "outputs": [
    {
     "data": {
      "text/plain": [
       "True"
      ]
     },
     "execution_count": 3,
     "metadata": {},
     "output_type": "execute_result"
    }
   ],
   "source": [
    "c = a==b\n",
    "c.all()"
   ]
  },
  {
   "cell_type": "code",
   "execution_count": 3,
   "id": "649cbc2e",
   "metadata": {},
   "outputs": [
    {
     "data": {
      "text/plain": [
       "False"
      ]
     },
     "execution_count": 3,
     "metadata": {},
     "output_type": "execute_result"
    }
   ],
   "source": [
    "from polynomial import Polynomial\n",
    "a = Polynomial.from_string(\"-2 - x\")\n",
    "b = Polynomial.from_string(\"1 + 7*x^2\")\n",
    "c = Polynomial.from_string(\"-3 -x -7*x^2\")\n",
    "a-b"
   ]
  },
  {
   "cell_type": "code",
   "execution_count": 9,
   "id": "6e26a4f3",
   "metadata": {},
   "outputs": [
    {
     "name": "stdout",
     "output_type": "stream",
     "text": [
      "[-4  0  7]\n"
     ]
    }
   ],
   "source": [
    "import numpy as np\n",
    "aa = np.array([-2 -1])\n",
    "bb = np.array([1, 0, 7])\n",
    "cc = bb.copy()\n",
    "cc[:len(aa)] = aa - cc[:len(aa)]\n",
    "print(cc)"
   ]
  },
  {
   "cell_type": "code",
   "execution_count": 1,
   "id": "bb6777c9",
   "metadata": {},
   "outputs": [
    {
     "data": {
      "text/plain": [
       "8+8*x+8*x^2"
      ]
     },
     "execution_count": 1,
     "metadata": {},
     "output_type": "execute_result"
    }
   ],
   "source": [
    "from polynomial import Polynomial\n",
    "a = Polynomial.from_string(\"4\")\n",
    "b = Polynomial.from_string(\"2 - x + 3*x^2\")\n",
    "c = Polynomial.from_string(\"8 - 4*x + 12*x^2\")\n",
    "a*b"
   ]
  },
  {
   "cell_type": "code",
   "execution_count": 4,
   "id": "40e851a1",
   "metadata": {},
   "outputs": [
    {
     "data": {
      "text/plain": [
       "array([ 8, -4, 12])"
      ]
     },
     "execution_count": 4,
     "metadata": {},
     "output_type": "execute_result"
    }
   ],
   "source": [
    "import numpy as np\n",
    "np.array([4]) * np.array([2, -1, 3])"
   ]
  },
  {
   "cell_type": "code",
   "execution_count": 12,
   "id": "c24505d9",
   "metadata": {},
   "outputs": [
    {
     "name": "stdout",
     "output_type": "stream",
     "text": [
      "[ 8 -4 12]\n",
      "[8 0 0 0]\n",
      "[ 8 -4  0  0]\n",
      "[ 8 -4 12  0]\n",
      "[14 -7 21]\n",
      "[ 8 10 12  0]\n",
      "[ 8 10  5  0]\n",
      "[ 8 10  5 21]\n"
     ]
    },
    {
     "data": {
      "text/plain": [
       "array([ 8, 10,  5, 21])"
      ]
     },
     "execution_count": 12,
     "metadata": {},
     "output_type": "execute_result"
    }
   ],
   "source": [
    "first_length = np.array([4, 7]).size\n",
    "secon_length = np.array([2, -1, 3]).size\n",
    "coef = np.zeros(first_length+secon_length-1, dtype=int)\n",
    "idx = 0\n",
    "for x in np.array([4, 7]):\n",
    "    if x != 0:\n",
    "        multip = x * np.array([2, -1, 3])\n",
    "        print(multip)\n",
    "        idy = 0\n",
    "        for y in range(secon_length):\n",
    "            coef[idy + idx] += multip[idy]\n",
    "            print(coef)\n",
    "            idy += 1\n",
    "    idx += 1\n",
    "coef"
   ]
  },
  {
   "cell_type": "code",
   "execution_count": null,
   "id": "749d7194",
   "metadata": {},
   "outputs": [],
   "source": []
  }
 ],
 "metadata": {
  "kernelspec": {
   "display_name": "Python 3",
   "language": "python",
   "name": "python3"
  },
  "language_info": {
   "codemirror_mode": {
    "name": "ipython",
    "version": 3
   },
   "file_extension": ".py",
   "mimetype": "text/x-python",
   "name": "python",
   "nbconvert_exporter": "python",
   "pygments_lexer": "ipython3",
   "version": "3.9.12"
  }
 },
 "nbformat": 4,
 "nbformat_minor": 5
}
