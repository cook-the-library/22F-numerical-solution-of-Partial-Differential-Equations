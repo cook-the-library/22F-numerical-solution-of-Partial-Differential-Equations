{
 "cells": [
  {
   "cell_type": "markdown",
   "metadata": {},
   "source": [
    "We want to make a python class to represent fractions. This class will do the following things:\n",
    "\n",
    "1. Store the value of a fraction (need numerator and denominator)\n",
    "2. Can specify a fraction via a string\n",
    "3. Prints the fraction in an aesthetic way (very important!)\n",
    "4. Add fractions\n",
    "5. Subtract fractions\n",
    "6. Multiply fractions\n",
    "7. Divide fraction\n",
    "8. Decide if two fractions are equal to each other\n",
   "cell_type": "code",
   "execution_count": 5,
   "metadata": {},
   "outputs": [],
   "source": [
    "import math\n",
    "\n",
    "class Fraction:\n",
    "    def __init__(self, numerator, denominator):\n",
    "        self.numerator=numerator\n",
    "        self.denominator=denominator\n",
    "        self._reduce()\n",
    "    def from_string(string):\n",
    "        numerator=int(string.split(\"/\")[0])\n",
    "        denominator=int(string.split(\"/\")[1])\n",
    "        return Fraction(numerator, denominator)\n",
    "    def __repr__(self):\n",
    "        string=str(self.numerator)+ \"/\" +str(self.denominator)\n",
    "        return string\n",
    "    def __add__(self, other):  #left hand side is self, right hand side is other\n",
    "        denominator = self.denominator*other.denominator\n",
    "        numerator = self.numerator*other.denominator + other.numerator*self.denominator\n",
    "        return Fraction(numerator, denominator)\n",
    "    def _reduce(self): #use existing library\n",
    "        gcd=math.gcd(self.numerator, self.denominator)\n",
    "        self.numerator=self.numerator//gcd\n",
    "        self.denominator=self.denominator//gcd\n",
    "        if self.denominator<0:\n",
    "            self.numerator*=-1\n",
    "            self.denominator*=-1\n",
    "    def __eq__(self,other):\n",
    "        if self.numerator==other.numerator:\n",
    "            if self.denominator == other.denominator:\n",
    "                return True\n",
    "        return False\n",
    "\n",
    "    def __neg__(self):\n",
    "        numerator =self.numerator*(-1)\n",
    "        return Fraction(numerator, self.denominator)\n",
    "\n",
    "    def __sub__(self, other):\n",
    "        return self+(-other)\n",
    "\n",
    "    def __mul__(self,other):\n",
    "        return Fraction(self.numerator*other.numerator, self.denominator*other.denominator)\n",
    "\n",
    "    def __truediv(self,other):\n",
    "        return Fraction(self.numerator*other.denominator, self.denominator*other.numerator)\n"
   ]
  }
 ],
 "metadata": {
  "kernelspec": {
   "display_name": "Python 3",
   "language": "python",
   "name": "python3"
  },
  "language_info": {
   "codemirror_mode": {
    "name": "ipython",
    "version": 3
   },
   "file_extension": ".py",
   "mimetype": "text/x-python",
   "name": "python",
   "nbconvert_exporter": "python",
   "pygments_lexer": "ipython3",
   "version": "3.9.12"
  }
 },
 "nbformat": 4,
 "nbformat_minor": 4
}
